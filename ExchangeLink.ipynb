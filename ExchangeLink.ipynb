{
 "cells": [
  {
   "cell_type": "code",
   "execution_count": 3,
   "metadata": {},
   "outputs": [
    {
     "name": "stdout",
     "output_type": "stream",
     "text": [
      "API-Sign: 6B4JeiHvCtboI9WbxY6/Qxh7QdITxkXjuduTWN6GVbNsFIAxeRK5WOCz4IkowwWqeAALvI8tTio5zVZHIApQfA==\n"
     ]
    }
   ],
   "source": [
    "import urllib.parse\n",
    "import hashlib\n",
    "import hmac\n",
    "import base64\n",
    "\n",
    "def get_kraken_signature(urlpath, data, secret):\n",
    "\n",
    "    postdata = urllib.parse.urlencode(data)\n",
    "    encoded = (str(data['nonce']) + postdata).encode()\n",
    "    message = urlpath.encode() + hashlib.sha256(encoded).digest()\n",
    "\n",
    "    mac = hmac.new(base64.b64decode(secret), message, hashlib.sha512)\n",
    "    sigdigest = base64.b64encode(mac.digest())\n",
    "    return sigdigest.decode()\n",
    "\n",
    "api_sec = \"2vOYtMSvdPZM0N7xcRKag5+vh9FOl9vMwASKTQl7AN+Q5pZ5l4ddufOTc6cZKNgFbHNKa6CvjMl4NSzPWtPG7g==\"\n",
    "\n",
    "data = {\n",
    "    \"nonce\": \"1665154018371\"\n",
    "}\n",
    "\n",
    "signature = get_kraken_signature(\"/0/private/Balance\", data, api_sec)\n",
    "print(\"API-Sign: {}\".format(signature))"
   ]
  },
  {
   "cell_type": "code",
   "execution_count": 5,
   "metadata": {},
   "outputs": [
    {
     "name": "stdout",
     "output_type": "stream",
     "text": [
      "E9tAmLlkwGt75GIq9tQOGmSptIIU+P45fsJ/lIqgjtQwdfrHvNeXdZXowMRuwYL2Csc/L+fwC9jQYsydcvsOvg==\n",
      "{'error': [], 'result': {}}\n"
     ]
    }
   ],
   "source": [
    "import time\n",
    "import os\n",
    "import requests\n",
    "\n",
    "# Read Kraken API key and secret stored in environment variables\n",
    "api_url = \"https://api.kraken.com\"\n",
    "api_key = \"JMBmqY5YgFLWQmb7PA8YRrxNg9Kxy07vyPLXMkW3OZsMEGYWm+zv8Nkh\"\n",
    "api_sec = \"2vOYtMSvdPZM0N7xcRKag5+vh9FOl9vMwASKTQl7AN+Q5pZ5l4ddufOTc6cZKNgFbHNKa6CvjMl4NSzPWtPG7g==\"\n",
    "\n",
    "# Attaches auth headers and returns results of a POST request\n",
    "def kraken_request(uri_path, data, api_key, api_sec):\n",
    "    headers = {}\n",
    "    headers['API-Key'] = api_key\n",
    "    # get_kraken_signature() as defined in the 'Authentication' section\n",
    "    headers['API-Sign'] = get_kraken_signature(uri_path, data, api_sec)   \n",
    "    print(headers['API-Sign'])          \n",
    "    req = requests.post((api_url + uri_path), headers=headers, data=data)\n",
    "    return req\n",
    "\n",
    "# Construct the request and print the result\n",
    "resp = kraken_request('/0/private/Balance', {\n",
    "    \"nonce\": str(int(1000*time.time()))\n",
    "}, api_key, api_sec)\n",
    "\n",
    "print(resp.json())        "
   ]
  }
 ],
 "metadata": {
  "kernelspec": {
   "display_name": "Python 3.9.12 ('base')",
   "language": "python",
   "name": "python3"
  },
  "language_info": {
   "codemirror_mode": {
    "name": "ipython",
    "version": 3
   },
   "file_extension": ".py",
   "mimetype": "text/x-python",
   "name": "python",
   "nbconvert_exporter": "python",
   "pygments_lexer": "ipython3",
   "version": "3.9.12"
  },
  "orig_nbformat": 4,
  "vscode": {
   "interpreter": {
    "hash": "ad2bdc8ecc057115af97d19610ffacc2b4e99fae6737bb82f5d7fb13d2f2c186"
   }
  }
 },
 "nbformat": 4,
 "nbformat_minor": 2
}
